{
 "cells": [
  {
   "cell_type": "markdown",
   "id": "395d6a6d",
   "metadata": {},
   "source": [
    "# Comparison Operators "
   ]
  },
  {
   "cell_type": "code",
   "execution_count": 1,
   "id": "f9fc00c1",
   "metadata": {},
   "outputs": [
    {
     "data": {
      "text/plain": [
       "True"
      ]
     },
     "execution_count": 1,
     "metadata": {},
     "output_type": "execute_result"
    }
   ],
   "source": [
    "#Equal \n",
    "23==23"
   ]
  },
  {
   "cell_type": "code",
   "execution_count": 2,
   "id": "0b847aad",
   "metadata": {},
   "outputs": [
    {
     "data": {
      "text/plain": [
       "False"
      ]
     },
     "execution_count": 2,
     "metadata": {},
     "output_type": "execute_result"
    }
   ],
   "source": [
    "#Equal (Returns False when the operation is not true)\n",
    "23==12"
   ]
  },
  {
   "cell_type": "code",
   "execution_count": 3,
   "id": "4923bcba",
   "metadata": {},
   "outputs": [
    {
     "data": {
      "text/plain": [
       "True"
      ]
     },
     "execution_count": 3,
     "metadata": {},
     "output_type": "execute_result"
    }
   ],
   "source": [
    "#Not Equal\n",
    "23!=244"
   ]
  },
  {
   "cell_type": "code",
   "execution_count": 4,
   "id": "efec4077",
   "metadata": {},
   "outputs": [
    {
     "data": {
      "text/plain": [
       "False"
      ]
     },
     "execution_count": 4,
     "metadata": {},
     "output_type": "execute_result"
    }
   ],
   "source": [
    "312!=312"
   ]
  },
  {
   "cell_type": "code",
   "execution_count": 6,
   "id": "8cd00493",
   "metadata": {},
   "outputs": [
    {
     "data": {
      "text/plain": [
       "True"
      ]
     },
     "execution_count": 6,
     "metadata": {},
     "output_type": "execute_result"
    }
   ],
   "source": [
    "#Less Than \n",
    "2<3"
   ]
  },
  {
   "cell_type": "code",
   "execution_count": 7,
   "id": "b2286fec",
   "metadata": {},
   "outputs": [
    {
     "data": {
      "text/plain": [
       "False"
      ]
     },
     "execution_count": 7,
     "metadata": {},
     "output_type": "execute_result"
    }
   ],
   "source": [
    "3455<24"
   ]
  },
  {
   "cell_type": "code",
   "execution_count": 9,
   "id": "7f214a72",
   "metadata": {},
   "outputs": [
    {
     "data": {
      "text/plain": [
       "False"
      ]
     },
     "execution_count": 9,
     "metadata": {},
     "output_type": "execute_result"
    }
   ],
   "source": [
    "#Greater Than\n",
    "2>344"
   ]
  },
  {
   "cell_type": "code",
   "execution_count": 11,
   "id": "06e0f083",
   "metadata": {},
   "outputs": [
    {
     "data": {
      "text/plain": [
       "True"
      ]
     },
     "execution_count": 11,
     "metadata": {},
     "output_type": "execute_result"
    }
   ],
   "source": [
    "243344>1133"
   ]
  },
  {
   "cell_type": "code",
   "execution_count": 12,
   "id": "1140c6a9",
   "metadata": {},
   "outputs": [
    {
     "data": {
      "text/plain": [
       "True"
      ]
     },
     "execution_count": 12,
     "metadata": {},
     "output_type": "execute_result"
    }
   ],
   "source": [
    "#less than or equal to\n",
    "23<=344"
   ]
  },
  {
   "cell_type": "code",
   "execution_count": null,
   "id": "cdc31a54",
   "metadata": {},
   "outputs": [],
   "source": [
    "#Greater than or eq"
   ]
  }
 ],
 "metadata": {
  "kernelspec": {
   "display_name": "Python 3 (ipykernel)",
   "language": "python",
   "name": "python3"
  },
  "language_info": {
   "codemirror_mode": {
    "name": "ipython",
    "version": 3
   },
   "file_extension": ".py",
   "mimetype": "text/x-python",
   "name": "python",
   "nbconvert_exporter": "python",
   "pygments_lexer": "ipython3",
   "version": "3.9.12"
  }
 },
 "nbformat": 4,
 "nbformat_minor": 5
}
