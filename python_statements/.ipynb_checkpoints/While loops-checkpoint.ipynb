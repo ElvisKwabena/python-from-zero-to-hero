{
 "cells": [
  {
   "cell_type": "code",
   "execution_count": 4,
   "id": "9ac50f07",
   "metadata": {},
   "outputs": [
    {
     "name": "stdout",
     "output_type": "stream",
     "text": [
      "The current value of x is 4\n",
      "X is not less than 5\n"
     ]
    }
   ],
   "source": [
    "x=4\n",
    "while x<5:\n",
    "    print(f'The current value of x is {x}')\n",
    "    \n",
    "    \n",
    "    x += 1\n",
    "else:\n",
    "    print(\"X is not less than 5\")\n",
    "    "
   ]
  },
  {
   "cell_type": "markdown",
   "id": "13c13067",
   "metadata": {},
   "source": [
    "# BREAK , CONTINUE AND PASS STATEMENTS"
   ]
  },
  {
   "cell_type": "code",
   "execution_count": 5,
   "id": "fdc8ca36",
   "metadata": {},
   "outputs": [
    {
     "name": "stdout",
     "output_type": "stream",
     "text": [
      "end of my script\n"
     ]
    }
   ],
   "source": [
    "x=[1,2,3]\n",
    "for item in x:\n",
    "    #comment\n",
    "    pass\n",
    "\n",
    "print('end of my script')"
   ]
  },
  {
   "cell_type": "code",
   "execution_count": 6,
   "id": "2da8fb5f",
   "metadata": {},
   "outputs": [],
   "source": [
    "mystring='Elvis'"
   ]
  },
  {
   "cell_type": "code",
   "execution_count": 16,
   "id": "f686e2e5",
   "metadata": {},
   "outputs": [
    {
     "name": "stdout",
     "output_type": "stream",
     "text": [
      "E\n",
      "v\n",
      "i\n",
      "s\n"
     ]
    }
   ],
   "source": [
    "for letter in mystring:\n",
    "    if letter=='l':\n",
    "        continue\n",
    "    print(letter)"
   ]
  },
  {
   "cell_type": "code",
   "execution_count": 18,
   "id": "5b6a7209",
   "metadata": {},
   "outputs": [
    {
     "name": "stdout",
     "output_type": "stream",
     "text": [
      "E\n",
      "l\n"
     ]
    }
   ],
   "source": [
    "for letter in mystring:\n",
    "    if letter=='v':\n",
    "        break\n",
    "    print(letter)"
   ]
  }
 ],
 "metadata": {
  "kernelspec": {
   "display_name": "Python 3 (ipykernel)",
   "language": "python",
   "name": "python3"
  },
  "language_info": {
   "codemirror_mode": {
    "name": "ipython",
    "version": 3
   },
   "file_extension": ".py",
   "mimetype": "text/x-python",
   "name": "python",
   "nbconvert_exporter": "python",
   "pygments_lexer": "ipython3",
   "version": "3.9.12"
  }
 },
 "nbformat": 4,
 "nbformat_minor": 5
}
