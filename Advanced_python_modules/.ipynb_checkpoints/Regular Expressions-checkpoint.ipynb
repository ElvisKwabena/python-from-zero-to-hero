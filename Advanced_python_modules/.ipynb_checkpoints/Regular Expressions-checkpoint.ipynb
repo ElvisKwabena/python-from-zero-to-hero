{
 "cells": [
  {
   "cell_type": "code",
   "execution_count": 1,
   "id": "1e0325ce",
   "metadata": {},
   "outputs": [],
   "source": [
    "import re"
   ]
  },
  {
   "cell_type": "code",
   "execution_count": 2,
   "id": "eed5caee",
   "metadata": {},
   "outputs": [],
   "source": [
    "patterns=['term1','term2']"
   ]
  },
  {
   "cell_type": "code",
   "execution_count": 3,
   "id": "7113a4bc",
   "metadata": {},
   "outputs": [],
   "source": [
    "text = \"This is a string with term1 , but not the other term\""
   ]
  },
  {
   "cell_type": "code",
   "execution_count": null,
   "id": "d5c5d569",
   "metadata": {},
   "outputs": [],
   "source": [
    "for pattern in patterns:\n",
    "    print('Searching for ')"
   ]
  }
 ],
 "metadata": {
  "kernelspec": {
   "display_name": "Python 3 (ipykernel)",
   "language": "python",
   "name": "python3"
  },
  "language_info": {
   "codemirror_mode": {
    "name": "ipython",
    "version": 3
   },
   "file_extension": ".py",
   "mimetype": "text/x-python",
   "name": "python",
   "nbconvert_exporter": "python",
   "pygments_lexer": "ipython3",
   "version": "3.9.12"
  }
 },
 "nbformat": 4,
 "nbformat_minor": 5
}
