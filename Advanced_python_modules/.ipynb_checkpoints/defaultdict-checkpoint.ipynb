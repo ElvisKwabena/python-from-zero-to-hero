{
 "cells": [
  {
   "cell_type": "code",
   "execution_count": 1,
   "id": "d1725ce4",
   "metadata": {},
   "outputs": [],
   "source": [
    "from collections import defaultdict"
   ]
  },
  {
   "cell_type": "code",
   "execution_count": 2,
   "id": "0ee1ba8a",
   "metadata": {},
   "outputs": [],
   "source": [
    "d={'k1':1}"
   ]
  },
  {
   "cell_type": "code",
   "execution_count": 3,
   "id": "afdab77d",
   "metadata": {},
   "outputs": [
    {
     "data": {
      "text/plain": [
       "1"
      ]
     },
     "execution_count": 3,
     "metadata": {},
     "output_type": "execute_result"
    }
   ],
   "source": [
    "d['k1']"
   ]
  },
  {
   "cell_type": "code",
   "execution_count": 4,
   "id": "0078dfff",
   "metadata": {},
   "outputs": [],
   "source": [
    "#create a default dictionary\n",
    "\n",
    "d=defaultdict(object)"
   ]
  },
  {
   "cell_type": "code",
   "execution_count": 5,
   "id": "c6956a0a",
   "metadata": {},
   "outputs": [
    {
     "data": {
      "text/plain": [
       "<object at 0x23af281a920>"
      ]
     },
     "execution_count": 5,
     "metadata": {},
     "output_type": "execute_result"
    }
   ],
   "source": [
    "d['one']"
   ]
  },
  {
   "cell_type": "code",
   "execution_count": 6,
   "id": "87fddb8f",
   "metadata": {},
   "outputs": [
    {
     "name": "stdout",
     "output_type": "stream",
     "text": [
      "one\n"
     ]
    }
   ],
   "source": [
    "for item in d:\n",
    "    print(item)"
   ]
  },
  {
   "cell_type": "code",
   "execution_count": 7,
   "id": "efe94588",
   "metadata": {},
   "outputs": [],
   "source": [
    "d=defaultdict(lambda:0)"
   ]
  },
  {
   "cell_type": "code",
   "execution_count": 9,
   "id": "00eb8898",
   "metadata": {},
   "outputs": [
    {
     "data": {
      "text/plain": [
       "0"
      ]
     },
     "execution_count": 9,
     "metadata": {},
     "output_type": "execute_result"
    }
   ],
   "source": [
    "#Since one has no key it sets it to 0 by default\n",
    "d['one']"
   ]
  },
  {
   "cell_type": "code",
   "execution_count": 10,
   "id": "65167dc8",
   "metadata": {},
   "outputs": [],
   "source": [
    "d['two']=2"
   ]
  },
  {
   "cell_type": "code",
   "execution_count": 12,
   "id": "cf834ddc",
   "metadata": {},
   "outputs": [
    {
     "data": {
      "text/plain": [
       "defaultdict(<function __main__.<lambda>()>, {'one': 0, 'two': 2})"
      ]
     },
     "execution_count": 12,
     "metadata": {},
     "output_type": "execute_result"
    }
   ],
   "source": [
    "d"
   ]
  },
  {
   "cell_type": "code",
   "execution_count": 13,
   "id": "7ab44403",
   "metadata": {},
   "outputs": [
    {
     "data": {
      "text/plain": [
       "0"
      ]
     },
     "execution_count": 13,
     "metadata": {},
     "output_type": "execute_result"
    }
   ],
   "source": [
    "d['three']"
   ]
  },
  {
   "cell_type": "code",
   "execution_count": 14,
   "id": "d76562eb",
   "metadata": {},
   "outputs": [
    {
     "name": "stdout",
     "output_type": "stream",
     "text": [
      "defaultdict(<function <lambda> at 0x0000023AF1172430>, {'one': 0, 'two': 2, 'three': 0})\n"
     ]
    }
   ],
   "source": [
    "print(d)"
   ]
  },
  {
   "cell_type": "code",
   "execution_count": 15,
   "id": "73f62acc",
   "metadata": {},
   "outputs": [],
   "source": [
    "d['four']=0"
   ]
  },
  {
   "cell_type": "code",
   "execution_count": 16,
   "id": "c6b87709",
   "metadata": {},
   "outputs": [
    {
     "data": {
      "text/plain": [
       "defaultdict(<function __main__.<lambda>()>,\n",
       "            {'one': 0, 'two': 2, 'three': 0, 'four': 0})"
      ]
     },
     "execution_count": 16,
     "metadata": {},
     "output_type": "execute_result"
    }
   ],
   "source": [
    "d"
   ]
  },
  {
   "cell_type": "code",
   "execution_count": 17,
   "id": "74390691",
   "metadata": {},
   "outputs": [],
   "source": [
    "me=defaultdict(object)\n"
   ]
  },
  {
   "cell_type": "code",
   "execution_count": 18,
   "id": "ed8a4253",
   "metadata": {},
   "outputs": [
    {
     "data": {
      "text/plain": [
       "<object at 0x23af281a8f0>"
      ]
     },
     "execution_count": 18,
     "metadata": {},
     "output_type": "execute_result"
    }
   ],
   "source": [
    "me['1st']"
   ]
  },
  {
   "cell_type": "code",
   "execution_count": 19,
   "id": "9892086a",
   "metadata": {},
   "outputs": [],
   "source": [
    "me['2nd']=23"
   ]
  },
  {
   "cell_type": "code",
   "execution_count": 20,
   "id": "0c4bd841",
   "metadata": {},
   "outputs": [
    {
     "data": {
      "text/plain": [
       "defaultdict(object, {'1st': <object at 0x23af281a8f0>, '2nd': 23})"
      ]
     },
     "execution_count": 20,
     "metadata": {},
     "output_type": "execute_result"
    }
   ],
   "source": [
    "me"
   ]
  },
  {
   "cell_type": "code",
   "execution_count": 25,
   "id": "cb37b728",
   "metadata": {},
   "outputs": [],
   "source": [
    "me=defaultdict(lambda:0)"
   ]
  },
  {
   "cell_type": "code",
   "execution_count": 27,
   "id": "c0fc7647",
   "metadata": {},
   "outputs": [
    {
     "data": {
      "text/plain": [
       "0"
      ]
     },
     "execution_count": 27,
     "metadata": {},
     "output_type": "execute_result"
    }
   ],
   "source": [
    "me['one']"
   ]
  },
  {
   "cell_type": "code",
   "execution_count": 28,
   "id": "d4952f25",
   "metadata": {},
   "outputs": [],
   "source": [
    "me['two']=2"
   ]
  },
  {
   "cell_type": "code",
   "execution_count": 29,
   "id": "ce6422ce",
   "metadata": {},
   "outputs": [
    {
     "data": {
      "text/plain": [
       "defaultdict(<function __main__.<lambda>()>, {'one': 0, 'two': 2})"
      ]
     },
     "execution_count": 29,
     "metadata": {},
     "output_type": "execute_result"
    }
   ],
   "source": [
    "me"
   ]
  },
  {
   "cell_type": "code",
   "execution_count": null,
   "id": "9f2f435b",
   "metadata": {},
   "outputs": [],
   "source": []
  }
 ],
 "metadata": {
  "kernelspec": {
   "display_name": "Python 3 (ipykernel)",
   "language": "python",
   "name": "python3"
  },
  "language_info": {
   "codemirror_mode": {
    "name": "ipython",
    "version": 3
   },
   "file_extension": ".py",
   "mimetype": "text/x-python",
   "name": "python",
   "nbconvert_exporter": "python",
   "pygments_lexer": "ipython3",
   "version": "3.9.12"
  }
 },
 "nbformat": 4,
 "nbformat_minor": 5
}
