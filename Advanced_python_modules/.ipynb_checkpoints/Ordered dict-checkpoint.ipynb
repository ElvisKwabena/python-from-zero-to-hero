{
 "cells": [
  {
   "cell_type": "markdown",
   "id": "4a791afa",
   "metadata": {},
   "source": [
    "# OrderedDict"
   ]
  },
  {
   "cell_type": "code",
   "execution_count": 9,
   "id": "f1ced18c",
   "metadata": {},
   "outputs": [],
   "source": [
    "d={}\n",
    "d['a']=1\n",
    "d['b']=2\n",
    "d['c']=3\n",
    "d['d']=4\n",
    "d['e']=5"
   ]
  },
  {
   "cell_type": "code",
   "execution_count": 12,
   "id": "1613650b",
   "metadata": {},
   "outputs": [
    {
     "name": "stdout",
     "output_type": "stream",
     "text": [
      "a 1\n",
      "b 2\n",
      "c 3\n",
      "d 4\n",
      "e 5\n"
     ]
    }
   ],
   "source": [
    "for a,b in d.items():\n",
    "    print(a,b)"
   ]
  },
  {
   "cell_type": "code",
   "execution_count": 6,
   "id": "69454bb4",
   "metadata": {},
   "outputs": [],
   "source": [
    "from collections import OrderedDict"
   ]
  },
  {
   "cell_type": "code",
   "execution_count": 14,
   "id": "ecf5b761",
   "metadata": {},
   "outputs": [],
   "source": [
    "d=OrderedDict()"
   ]
  },
  {
   "cell_type": "code",
   "execution_count": 15,
   "id": "d2dd829f",
   "metadata": {},
   "outputs": [],
   "source": [
    "d={}\n",
    "d['a']=1\n",
    "d['b']=2\n",
    "d['c']=3\n",
    "d['d']=4\n",
    "d['e']=5"
   ]
  },
  {
   "cell_type": "code",
   "execution_count": 16,
   "id": "491bc34d",
   "metadata": {},
   "outputs": [
    {
     "name": "stdout",
     "output_type": "stream",
     "text": [
      "a 1\n",
      "b 2\n",
      "c 3\n",
      "d 4\n",
      "e 5\n"
     ]
    }
   ],
   "source": [
    "for a,b in d.items():\n",
    "    print(a,b)"
   ]
  },
  {
   "cell_type": "code",
   "execution_count": 3,
   "id": "793a45d9",
   "metadata": {},
   "outputs": [],
   "source": [
    "d1={}\n",
    "d1['a']=1\n",
    "d1['b']=2\n",
    "\n",
    "d2={}\n",
    "d2['b']=2\n",
    "d2['a']=1\n"
   ]
  },
  {
   "cell_type": "code",
   "execution_count": 4,
   "id": "be9ce4c3",
   "metadata": {},
   "outputs": [
    {
     "data": {
      "text/plain": [
       "True"
      ]
     },
     "execution_count": 4,
     "metadata": {},
     "output_type": "execute_result"
    }
   ],
   "source": [
    "d1==d2"
   ]
  },
  {
   "cell_type": "code",
   "execution_count": 7,
   "id": "d19cc36a",
   "metadata": {},
   "outputs": [],
   "source": [
    "d1=OrderedDict()\n",
    "d1['a']=1\n",
    "d1['b']=2\n",
    "\n",
    "d2=OrderedDict()\n",
    "d2['b']=1\n",
    "d2['a']=2\n"
   ]
  },
  {
   "cell_type": "code",
   "execution_count": 8,
   "id": "37757693",
   "metadata": {},
   "outputs": [
    {
     "data": {
      "text/plain": [
       "False"
      ]
     },
     "execution_count": 8,
     "metadata": {},
     "output_type": "execute_result"
    }
   ],
   "source": [
    "d1==d2"
   ]
  },
  {
   "cell_type": "code",
   "execution_count": null,
   "id": "33ac9119",
   "metadata": {},
   "outputs": [],
   "source": []
  }
 ],
 "metadata": {
  "kernelspec": {
   "display_name": "Python 3 (ipykernel)",
   "language": "python",
   "name": "python3"
  },
  "language_info": {
   "codemirror_mode": {
    "name": "ipython",
    "version": 3
   },
   "file_extension": ".py",
   "mimetype": "text/x-python",
   "name": "python",
   "nbconvert_exporter": "python",
   "pygments_lexer": "ipython3",
   "version": "3.9.12"
  }
 },
 "nbformat": 4,
 "nbformat_minor": 5
}
