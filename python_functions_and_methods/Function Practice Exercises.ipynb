{
 "cells": [
  {
   "cell_type": "markdown",
   "id": "358337ca",
   "metadata": {},
   "source": [
    "LESSER OF TWO EVENS"
   ]
  },
  {
   "cell_type": "code",
   "execution_count": 15,
   "id": "df132749",
   "metadata": {},
   "outputs": [],
   "source": [
    "def lesser_of_two_evens(a,b):\n",
    "    if  a%2==0 and b%2==0:\n",
    "        if a<b:\n",
    "            return a\n",
    "        else:\n",
    "            return b\n",
    "    else:\n",
    "        if a>b:\n",
    "            return a\n",
    "        else:\n",
    "            return b\n",
    "        "
   ]
  },
  {
   "cell_type": "code",
   "execution_count": 16,
   "id": "ef3d1a2f",
   "metadata": {},
   "outputs": [
    {
     "data": {
      "text/plain": [
       "23"
      ]
     },
     "execution_count": 16,
     "metadata": {},
     "output_type": "execute_result"
    }
   ],
   "source": [
    "lesser_of_two_evens(23,12)"
   ]
  },
  {
   "cell_type": "code",
   "execution_count": 17,
   "id": "3dcecdb0",
   "metadata": {},
   "outputs": [
    {
     "data": {
      "text/plain": [
       "33"
      ]
     },
     "execution_count": 17,
     "metadata": {},
     "output_type": "execute_result"
    }
   ],
   "source": [
    "lesser_of_two_evens(22,33)"
   ]
  },
  {
   "cell_type": "code",
   "execution_count": 18,
   "id": "3ce0d266",
   "metadata": {},
   "outputs": [
    {
     "data": {
      "text/plain": [
       "22"
      ]
     },
     "execution_count": 18,
     "metadata": {},
     "output_type": "execute_result"
    }
   ],
   "source": [
    "lesser_of_two_evens(22,22)"
   ]
  },
  {
   "cell_type": "code",
   "execution_count": 31,
   "id": "9dd8632c",
   "metadata": {},
   "outputs": [],
   "source": [
    "def animal_crackers(word):\n",
    "    \n",
    "    Separated_string=word.split()\n",
    "    if Separated_string[0][0]==Separated_string[1][0]:\n",
    "        return True\n",
    "    else:\n",
    "        return False"
   ]
  },
  {
   "cell_type": "code",
   "execution_count": 32,
   "id": "b9b0b828",
   "metadata": {},
   "outputs": [
    {
     "data": {
      "text/plain": [
       "True"
      ]
     },
     "execution_count": 32,
     "metadata": {},
     "output_type": "execute_result"
    }
   ],
   "source": [
    "#To check\n",
    "animal_crackers('Levelheaded Llama')"
   ]
  },
  {
   "cell_type": "code",
   "execution_count": 33,
   "id": "5e8fe280",
   "metadata": {},
   "outputs": [],
   "source": [
    "def makes_twenty(x,y):\n",
    "    if x+y==20 :\n",
    "        return True\n",
    "    elif x==20 or y==20:\n",
    "        return True\n",
    "    else:\n",
    "        return False\n",
    "        "
   ]
  },
  {
   "cell_type": "code",
   "execution_count": 34,
   "id": "ddbf806e",
   "metadata": {},
   "outputs": [
    {
     "data": {
      "text/plain": [
       "True"
      ]
     },
     "execution_count": 34,
     "metadata": {},
     "output_type": "execute_result"
    }
   ],
   "source": [
    "makes_twenty(233,20)"
   ]
  },
  {
   "cell_type": "code",
   "execution_count": 35,
   "id": "50afe749",
   "metadata": {},
   "outputs": [
    {
     "data": {
      "text/plain": [
       "True"
      ]
     },
     "execution_count": 35,
     "metadata": {},
     "output_type": "execute_result"
    }
   ],
   "source": [
    "makes_twenty(20,3348)"
   ]
  },
  {
   "cell_type": "code",
   "execution_count": 36,
   "id": "46aa981c",
   "metadata": {},
   "outputs": [
    {
     "data": {
      "text/plain": [
       "True"
      ]
     },
     "execution_count": 36,
     "metadata": {},
     "output_type": "execute_result"
    }
   ],
   "source": [
    "makes_twenty(15,5)"
   ]
  },
  {
   "cell_type": "markdown",
   "id": "2539445a",
   "metadata": {},
   "source": [
    "# LEVEL 1 PROBLEMS"
   ]
  },
  {
   "cell_type": "code",
   "execution_count": 45,
   "id": "a57a1049",
   "metadata": {},
   "outputs": [],
   "source": [
    "#OLD MACDONALD\n",
    "def old_macdonald(name):\n",
    "    first_letter_upper=name[0].upper()\n",
    "    fourth_letter_upper=name[3].upper()\n",
    "    name=first_letter_upper+name[1:3]+fourth_letter_upper+name[4:]\n",
    "    return name"
   ]
  },
  {
   "cell_type": "code",
   "execution_count": 52,
   "id": "3e6059de",
   "metadata": {},
   "outputs": [
    {
     "data": {
      "text/plain": [
       "'MacDonald'"
      ]
     },
     "execution_count": 52,
     "metadata": {},
     "output_type": "execute_result"
    }
   ],
   "source": [
    "old_macdonald('macdonald')"
   ]
  },
  {
   "cell_type": "code",
   "execution_count": 102,
   "id": "5ecda8ba",
   "metadata": {},
   "outputs": [],
   "source": [
    "#YOGA MASTER\n",
    "def master_yoga(sentence):\n",
    "    words=sentence.split()\n",
    "    return ' '.join(words[::-1])\n",
    "    "
   ]
  },
  {
   "cell_type": "code",
   "execution_count": 103,
   "id": "74b8a81e",
   "metadata": {},
   "outputs": [
    {
     "data": {
      "text/plain": [
       "'home am I'"
      ]
     },
     "execution_count": 103,
     "metadata": {},
     "output_type": "execute_result"
    }
   ],
   "source": [
    "master_yoga('I am home')\n"
   ]
  },
  {
   "cell_type": "code",
   "execution_count": 104,
   "id": "ae1b2c8f",
   "metadata": {},
   "outputs": [
    {
     "data": {
      "text/plain": [
       "'ready are We'"
      ]
     },
     "execution_count": 104,
     "metadata": {},
     "output_type": "execute_result"
    }
   ],
   "source": [
    "master_yoga('We are ready')"
   ]
  },
  {
   "cell_type": "code",
   "execution_count": 105,
   "id": "f6871281",
   "metadata": {},
   "outputs": [],
   "source": [
    "#Almost There\n",
    "def almost_here(integer):\n",
    "    if integer in range(90,111):\n",
    "        return True\n",
    "    elif integer in range(190,211):\n",
    "        return True\n",
    "    else:\n",
    "        return False"
   ]
  },
  {
   "cell_type": "code",
   "execution_count": 106,
   "id": "7ca83f77",
   "metadata": {},
   "outputs": [
    {
     "data": {
      "text/plain": [
       "True"
      ]
     },
     "execution_count": 106,
     "metadata": {},
     "output_type": "execute_result"
    }
   ],
   "source": [
    "almost_here(90)"
   ]
  },
  {
   "cell_type": "code",
   "execution_count": 107,
   "id": "a3617691",
   "metadata": {},
   "outputs": [
    {
     "data": {
      "text/plain": [
       "True"
      ]
     },
     "execution_count": 107,
     "metadata": {},
     "output_type": "execute_result"
    }
   ],
   "source": [
    "almost_here(104)"
   ]
  },
  {
   "cell_type": "code",
   "execution_count": 108,
   "id": "eacae812",
   "metadata": {},
   "outputs": [
    {
     "data": {
      "text/plain": [
       "False"
      ]
     },
     "execution_count": 108,
     "metadata": {},
     "output_type": "execute_result"
    }
   ],
   "source": [
    "almost_here(150)"
   ]
  },
  {
   "cell_type": "markdown",
   "id": "af8423ff",
   "metadata": {},
   "source": [
    "# LEVEL TWO PROBLEMS"
   ]
  },
  {
   "cell_type": "code",
   "execution_count": 271,
   "id": "996e4031",
   "metadata": {},
   "outputs": [],
   "source": [
    "def has_33(lista):\n",
    "    for x in range(0,len(lista)-1):\n",
    "        if lista[x]==3 and lista[x+1]==3:\n",
    "            return True\n",
    "        else:\n",
    "            return False"
   ]
  },
  {
   "cell_type": "code",
   "execution_count": 272,
   "id": "3e8bbd89",
   "metadata": {},
   "outputs": [
    {
     "data": {
      "text/plain": [
       "False"
      ]
     },
     "execution_count": 272,
     "metadata": {},
     "output_type": "execute_result"
    }
   ],
   "source": [
    "has_33([1,3,3])"
   ]
  },
  {
   "cell_type": "code",
   "execution_count": 273,
   "id": "54b74153",
   "metadata": {},
   "outputs": [
    {
     "data": {
      "text/plain": [
       "False"
      ]
     },
     "execution_count": 273,
     "metadata": {},
     "output_type": "execute_result"
    }
   ],
   "source": [
    "has_33([3,1,3])"
   ]
  },
  {
   "cell_type": "code",
   "execution_count": 198,
   "id": "317bc617",
   "metadata": {},
   "outputs": [],
   "source": [
    "#PAPER DOLL\n",
    "def paper_doll(name):\n",
    "    newlist=[i*3 for i in name]\n",
    "    print(''.join(newlist))"
   ]
  },
  {
   "cell_type": "code",
   "execution_count": 199,
   "id": "6b19547f",
   "metadata": {},
   "outputs": [
    {
     "name": "stdout",
     "output_type": "stream",
     "text": [
      "HHHeeellllllooo\n"
     ]
    }
   ],
   "source": [
    "paper_doll('Hello')\n"
   ]
  },
  {
   "cell_type": "code",
   "execution_count": 200,
   "id": "9ebf1408",
   "metadata": {},
   "outputs": [
    {
     "name": "stdout",
     "output_type": "stream",
     "text": [
      "MMMiiissssssiiissssssiiippppppiii\n"
     ]
    }
   ],
   "source": [
    "paper_doll('Mississippi')"
   ]
  },
  {
   "cell_type": "code",
   "execution_count": 252,
   "id": "131230e7",
   "metadata": {},
   "outputs": [],
   "source": [
    "#BlackJack\n",
    "def blackjack(a,b,c):\n",
    "    if a+b+c <=21:\n",
    "        return a+b+c\n",
    "    else:\n",
    "        if a==11 or b==11 or c==11:\n",
    "            return a+b+c-10\n",
    "        else:\n",
    "            return 'BUST'\n",
    "        \n",
    "    \n",
    "        "
   ]
  },
  {
   "cell_type": "code",
   "execution_count": 250,
   "id": "da89166b",
   "metadata": {},
   "outputs": [
    {
     "data": {
      "text/plain": [
       "18"
      ]
     },
     "execution_count": 250,
     "metadata": {},
     "output_type": "execute_result"
    }
   ],
   "source": [
    "blackjack(5,6,7)"
   ]
  },
  {
   "cell_type": "code",
   "execution_count": 253,
   "id": "c255037a",
   "metadata": {},
   "outputs": [
    {
     "data": {
      "text/plain": [
       "19"
      ]
     },
     "execution_count": 253,
     "metadata": {},
     "output_type": "execute_result"
    }
   ],
   "source": [
    "blackjack(9,9,11)"
   ]
  },
  {
   "cell_type": "code",
   "execution_count": 254,
   "id": "3fa1b2ad",
   "metadata": {},
   "outputs": [
    {
     "data": {
      "text/plain": [
       "'BUST'"
      ]
     },
     "execution_count": 254,
     "metadata": {},
     "output_type": "execute_result"
    }
   ],
   "source": [
    "blackjack(9,9,9)"
   ]
  },
  {
   "cell_type": "code",
   "execution_count": 276,
   "id": "d4b38f6b",
   "metadata": {},
   "outputs": [],
   "source": [
    "#SUMMER OF '69'\n",
    "def summer_69(arr):\n",
    "    total=0\n",
    "    add=True\n",
    "    for num in arr:\n",
    "        while add:\n",
    "            if num!=6:\n",
    "                total+=num\n",
    "                break\n",
    "            else:\n",
    "                add=False\n",
    "        while not add:\n",
    "            if num!=9:\n",
    "                break\n",
    "            else:\n",
    "                add=True\n",
    "                break\n",
    "    return total\n",
    "    \n",
    "    "
   ]
  },
  {
   "cell_type": "code",
   "execution_count": 275,
   "id": "bb064dbe",
   "metadata": {},
   "outputs": [
    {
     "data": {
      "text/plain": [
       "9"
      ]
     },
     "execution_count": 275,
     "metadata": {},
     "output_type": "execute_result"
    }
   ],
   "source": [
    "summer_69([1,3,5])"
   ]
  },
  {
   "cell_type": "code",
   "execution_count": 294,
   "id": "5b1d576a",
   "metadata": {},
   "outputs": [],
   "source": [
    "def spy_game(nums):\n",
    "\n",
    "    code = [0,0,7,'x']\n",
    "    \n",
    "    for num in nums:\n",
    "        if num == code[0]:\n",
    "            code.pop(0)   # code.remove(num) also works\n",
    "       \n",
    "    return len(code) == 1"
   ]
  },
  {
   "cell_type": "code",
   "execution_count": 295,
   "id": "8924c620",
   "metadata": {},
   "outputs": [
    {
     "data": {
      "text/plain": [
       "True"
      ]
     },
     "execution_count": 295,
     "metadata": {},
     "output_type": "execute_result"
    }
   ],
   "source": [
    "spy_game([1,2,4,0,0,7,5])"
   ]
  }
 ],
 "metadata": {
  "kernelspec": {
   "display_name": "Python 3 (ipykernel)",
   "language": "python",
   "name": "python3"
  },
  "language_info": {
   "codemirror_mode": {
    "name": "ipython",
    "version": 3
   },
   "file_extension": ".py",
   "mimetype": "text/x-python",
   "name": "python",
   "nbconvert_exporter": "python",
   "pygments_lexer": "ipython3",
   "version": "3.9.12"
  }
 },
 "nbformat": 4,
 "nbformat_minor": 5
}
