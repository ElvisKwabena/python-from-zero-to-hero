{
 "cells": [
  {
   "cell_type": "markdown",
   "id": "68ed71a7",
   "metadata": {},
   "source": [
    "LESSER OF TWO EVENS"
   ]
  },
  {
   "cell_type": "code",
   "execution_count": 15,
   "id": "4af862ff",
   "metadata": {},
   "outputs": [],
   "source": [
    "def lesser_of_two_evens(a,b):\n",
    "    if  a%2==0 and b%2==0:\n",
    "        if a<b:\n",
    "            return a\n",
    "        else:\n",
    "            return b\n",
    "    else:\n",
    "        if a>b:\n",
    "            return a\n",
    "        else:\n",
    "            return b\n",
    "        "
   ]
  },
  {
   "cell_type": "code",
   "execution_count": 16,
   "id": "b6eb49ce",
   "metadata": {},
   "outputs": [
    {
     "data": {
      "text/plain": [
       "23"
      ]
     },
     "execution_count": 16,
     "metadata": {},
     "output_type": "execute_result"
    }
   ],
   "source": [
    "lesser_of_two_evens(23,12)"
   ]
  },
  {
   "cell_type": "code",
   "execution_count": 17,
   "id": "2b6b65a0",
   "metadata": {},
   "outputs": [
    {
     "data": {
      "text/plain": [
       "33"
      ]
     },
     "execution_count": 17,
     "metadata": {},
     "output_type": "execute_result"
    }
   ],
   "source": [
    "lesser_of_two_evens(22,33)"
   ]
  },
  {
   "cell_type": "code",
   "execution_count": 18,
   "id": "0563d7e1",
   "metadata": {},
   "outputs": [
    {
     "data": {
      "text/plain": [
       "22"
      ]
     },
     "execution_count": 18,
     "metadata": {},
     "output_type": "execute_result"
    }
   ],
   "source": [
    "lesser_of_two_evens(22,22)"
   ]
  },
  {
   "cell_type": "code",
   "execution_count": 31,
   "id": "c0b8b459",
   "metadata": {},
   "outputs": [],
   "source": [
    "def animal_crackers(word):\n",
    "    \n",
    "    Separated_string=word.split()\n",
    "    if Separated_string[0][0]==Separated_string[1][0]:\n",
    "        return True\n",
    "    else:\n",
    "        return False"
   ]
  },
  {
   "cell_type": "code",
   "execution_count": 32,
   "id": "2d2b161e",
   "metadata": {},
   "outputs": [
    {
     "data": {
      "text/plain": [
       "True"
      ]
     },
     "execution_count": 32,
     "metadata": {},
     "output_type": "execute_result"
    }
   ],
   "source": [
    "#To check\n",
    "animal_crackers('Levelheaded Llama')"
   ]
  },
  {
   "cell_type": "code",
   "execution_count": 33,
   "id": "8c7f5a85",
   "metadata": {},
   "outputs": [],
   "source": [
    "def makes_twenty(x,y):\n",
    "    if x+y==20 :\n",
    "        return True\n",
    "    elif x==20 or y==20:\n",
    "        return True\n",
    "    else:\n",
    "        return False\n",
    "        "
   ]
  },
  {
   "cell_type": "code",
   "execution_count": 34,
   "id": "8b9326ae",
   "metadata": {},
   "outputs": [
    {
     "data": {
      "text/plain": [
       "True"
      ]
     },
     "execution_count": 34,
     "metadata": {},
     "output_type": "execute_result"
    }
   ],
   "source": [
    "makes_twenty(233,20)"
   ]
  },
  {
   "cell_type": "code",
   "execution_count": 35,
   "id": "f89a68a8",
   "metadata": {},
   "outputs": [
    {
     "data": {
      "text/plain": [
       "True"
      ]
     },
     "execution_count": 35,
     "metadata": {},
     "output_type": "execute_result"
    }
   ],
   "source": [
    "makes_twenty(20,3348)"
   ]
  },
  {
   "cell_type": "code",
   "execution_count": 36,
   "id": "b436dbeb",
   "metadata": {},
   "outputs": [
    {
     "data": {
      "text/plain": [
       "True"
      ]
     },
     "execution_count": 36,
     "metadata": {},
     "output_type": "execute_result"
    }
   ],
   "source": [
    "makes_twenty(15,5)"
   ]
  },
  {
   "cell_type": "markdown",
   "id": "e182afa2",
   "metadata": {},
   "source": [
    "# LEVEL 1 PROBLEMS"
   ]
  },
  {
   "cell_type": "code",
   "execution_count": 45,
   "id": "083a3320",
   "metadata": {},
   "outputs": [],
   "source": [
    "#OLD MACDONALD\n",
    "def old_macdonald(name):\n",
    "    first_letter_upper=name[0].upper()\n",
    "    fourth_letter_upper=name[3].upper()\n",
    "    name=first_letter_upper+name[1:3]+fourth_letter_upper+name[4:]\n",
    "    return name"
   ]
  },
  {
   "cell_type": "code",
   "execution_count": 52,
   "id": "38fa504d",
   "metadata": {},
   "outputs": [
    {
     "data": {
      "text/plain": [
       "'MacDonald'"
      ]
     },
     "execution_count": 52,
     "metadata": {},
     "output_type": "execute_result"
    }
   ],
   "source": [
    "old_macdonald('macdonald')"
   ]
  },
  {
   "cell_type": "code",
   "execution_count": 102,
   "id": "c6b8ea6e",
   "metadata": {},
   "outputs": [],
   "source": [
    "#YOGA MASTER\n",
    "def master_yoga(sentence):\n",
    "    words=sentence.split()\n",
    "    return ' '.join(words[::-1])\n",
    "    "
   ]
  },
  {
   "cell_type": "code",
   "execution_count": 103,
   "id": "9d369a9b",
   "metadata": {},
   "outputs": [
    {
     "data": {
      "text/plain": [
       "'home am I'"
      ]
     },
     "execution_count": 103,
     "metadata": {},
     "output_type": "execute_result"
    }
   ],
   "source": [
    "master_yoga('I am home')\n"
   ]
  },
  {
   "cell_type": "code",
   "execution_count": 104,
   "id": "6aa2251f",
   "metadata": {},
   "outputs": [
    {
     "data": {
      "text/plain": [
       "'ready are We'"
      ]
     },
     "execution_count": 104,
     "metadata": {},
     "output_type": "execute_result"
    }
   ],
   "source": [
    "master_yoga('We are ready')"
   ]
  },
  {
   "cell_type": "code",
   "execution_count": 105,
   "id": "58849dde",
   "metadata": {},
   "outputs": [],
   "source": [
    "#Almost There\n",
    "def almost_here(integer):\n",
    "    if integer in range(90,111):\n",
    "        return True\n",
    "    elif integer in range(190,211):\n",
    "        return True\n",
    "    else:\n",
    "        return False"
   ]
  },
  {
   "cell_type": "code",
   "execution_count": 106,
   "id": "7b830a4f",
   "metadata": {},
   "outputs": [
    {
     "data": {
      "text/plain": [
       "True"
      ]
     },
     "execution_count": 106,
     "metadata": {},
     "output_type": "execute_result"
    }
   ],
   "source": [
    "almost_here(90)"
   ]
  },
  {
   "cell_type": "code",
   "execution_count": 107,
   "id": "2052c01e",
   "metadata": {},
   "outputs": [
    {
     "data": {
      "text/plain": [
       "True"
      ]
     },
     "execution_count": 107,
     "metadata": {},
     "output_type": "execute_result"
    }
   ],
   "source": [
    "almost_here(104)"
   ]
  },
  {
   "cell_type": "code",
   "execution_count": 108,
   "id": "2e544703",
   "metadata": {},
   "outputs": [
    {
     "data": {
      "text/plain": [
       "False"
      ]
     },
     "execution_count": 108,
     "metadata": {},
     "output_type": "execute_result"
    }
   ],
   "source": [
    "almost_here(150)"
   ]
  },
  {
   "cell_type": "code",
   "execution_count": null,
   "id": "a7bfaa2a",
   "metadata": {},
   "outputs": [],
   "source": []
  }
 ],
 "metadata": {
  "kernelspec": {
   "display_name": "Python 3 (ipykernel)",
   "language": "python",
   "name": "python3"
  },
  "language_info": {
   "codemirror_mode": {
    "name": "ipython",
    "version": 3
   },
   "file_extension": ".py",
   "mimetype": "text/x-python",
   "name": "python",
   "nbconvert_exporter": "python",
   "pygments_lexer": "ipython3",
   "version": "3.9.12"
  }
 },
 "nbformat": 4,
 "nbformat_minor": 5
}
