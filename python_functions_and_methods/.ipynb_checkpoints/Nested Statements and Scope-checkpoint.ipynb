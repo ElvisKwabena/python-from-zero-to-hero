{
 "cells": [
  {
   "cell_type": "code",
   "execution_count": 2,
   "id": "123e704d",
   "metadata": {},
   "outputs": [],
   "source": [
    "x=25\n",
    "\n",
    "def printer():\n",
    "    x=50\n",
    "    return x\n",
    "#print x\n",
    "#print(printer())"
   ]
  },
  {
   "cell_type": "code",
   "execution_count": 3,
   "id": "8220f4bb",
   "metadata": {},
   "outputs": [
    {
     "data": {
      "text/plain": [
       "25"
      ]
     },
     "execution_count": 3,
     "metadata": {},
     "output_type": "execute_result"
    }
   ],
   "source": [
    "x"
   ]
  },
  {
   "cell_type": "code",
   "execution_count": 4,
   "id": "d232b6b8",
   "metadata": {},
   "outputs": [
    {
     "data": {
      "text/plain": [
       "50"
      ]
     },
     "execution_count": 4,
     "metadata": {},
     "output_type": "execute_result"
    }
   ],
   "source": [
    "printer()"
   ]
  },
  {
   "cell_type": "code",
   "execution_count": 7,
   "id": "c26e56db",
   "metadata": {},
   "outputs": [],
   "source": [
    "#Quick examples of LEGB\n",
    "F=lambda x:x**2\n",
    "#x is local here"
   ]
  },
  {
   "cell_type": "code",
   "execution_count": null,
   "id": "c7247060",
   "metadata": {},
   "outputs": [],
   "source": [
    "name='This is a global name'"
   ]
  },
  {
   "cell_type": "code",
   "execution_count": 8,
   "id": "e18afd07",
   "metadata": {},
   "outputs": [
    {
     "name": "stdout",
     "output_type": "stream",
     "text": [
      "x is 50\n",
      "Changed local x to 2\n",
      "x is still 50\n"
     ]
    }
   ],
   "source": [
    "x = 50\n",
    "\n",
    "def func(x):\n",
    "    print('x is', x)\n",
    "    x = 2\n",
    "    print('Changed local x to', x)\n",
    "\n",
    "func(x)\n",
    "print('x is still', x)"
   ]
  },
  {
   "cell_type": "code",
   "execution_count": 9,
   "id": "ced82a1b",
   "metadata": {},
   "outputs": [
    {
     "name": "stdout",
     "output_type": "stream",
     "text": [
      "Before calling func(), x is:  50\n",
      "This function is now using the global x!\n",
      "Because of global x is:  50\n",
      "Ran func(), changed global x to 2\n",
      "Value of x (outside of func()) is:  2\n"
     ]
    }
   ],
   "source": [
    "#Global\n",
    "x = 50\n",
    "\n",
    "def func():\n",
    "    global x\n",
    "    print('This function is now using the global x!')\n",
    "    print('Because of global x is: ', x)\n",
    "    x = 2\n",
    "    print('Ran func(), changed global x to', x)\n",
    "\n",
    "print('Before calling func(), x is: ', x)\n",
    "func()\n",
    "print('Value of x (outside of func()) is: ', x)"
   ]
  },
  {
   "cell_type": "code",
   "execution_count": 10,
   "id": "7fb13fbb",
   "metadata": {
    "scrolled": true
   },
   "outputs": [
    {
     "data": {
      "text/plain": [
       "{'__name__': '__main__',\n",
       " '__doc__': 'Automatically created module for IPython interactive environment',\n",
       " '__package__': None,\n",
       " '__loader__': None,\n",
       " '__spec__': None,\n",
       " '__builtin__': <module 'builtins' (built-in)>,\n",
       " '__builtins__': <module 'builtins' (built-in)>,\n",
       " '_ih': ['',\n",
       "  'x=25\\n\\ndef printer():\\n    x=50\\n    return x\\n#print x\\n#print(printer(0))',\n",
       "  'x=25\\n\\ndef printer():\\n    x=50\\n    return x\\n#print x\\n#print(printer())',\n",
       "  'x',\n",
       "  'printer()',\n",
       "  '#Quick examples of LEGB',\n",
       "  '#Quick examples of LEGB\\nF=lambda x:x**2',\n",
       "  '#Quick examples of LEGB\\nF=lambda x:x**2\\n#x is local here',\n",
       "  \"x = 50\\n\\ndef func(x):\\n    print('x is', x)\\n    x = 2\\n    print('Changed local x to', x)\\n\\nfunc(x)\\nprint('x is still', x)\",\n",
       "  \"#Global\\nx = 50\\n\\ndef func():\\n    global x\\n    print('This function is now using the global x!')\\n    print('Because of global x is: ', x)\\n    x = 2\\n    print('Ran func(), changed global x to', x)\\n\\nprint('Before calling func(), x is: ', x)\\nfunc()\\nprint('Value of x (outside of func()) is: ', x)\",\n",
       "  '#to check for globals an locals use this function\\nglobals() and locals()'],\n",
       " '_oh': {3: 25, 4: 50},\n",
       " '_dh': [WindowsPath('C:/Users/Elvis/Desktop/python-from-zero-to-hero/python_functions_and_methods')],\n",
       " 'In': ['',\n",
       "  'x=25\\n\\ndef printer():\\n    x=50\\n    return x\\n#print x\\n#print(printer(0))',\n",
       "  'x=25\\n\\ndef printer():\\n    x=50\\n    return x\\n#print x\\n#print(printer())',\n",
       "  'x',\n",
       "  'printer()',\n",
       "  '#Quick examples of LEGB',\n",
       "  '#Quick examples of LEGB\\nF=lambda x:x**2',\n",
       "  '#Quick examples of LEGB\\nF=lambda x:x**2\\n#x is local here',\n",
       "  \"x = 50\\n\\ndef func(x):\\n    print('x is', x)\\n    x = 2\\n    print('Changed local x to', x)\\n\\nfunc(x)\\nprint('x is still', x)\",\n",
       "  \"#Global\\nx = 50\\n\\ndef func():\\n    global x\\n    print('This function is now using the global x!')\\n    print('Because of global x is: ', x)\\n    x = 2\\n    print('Ran func(), changed global x to', x)\\n\\nprint('Before calling func(), x is: ', x)\\nfunc()\\nprint('Value of x (outside of func()) is: ', x)\",\n",
       "  '#to check for globals an locals use this function\\nglobals() and locals()'],\n",
       " 'Out': {3: 25, 4: 50},\n",
       " 'get_ipython': <bound method InteractiveShell.get_ipython of <ipykernel.zmqshell.ZMQInteractiveShell object at 0x0000024FC2285310>>,\n",
       " 'exit': <IPython.core.autocall.ZMQExitAutocall at 0x24fc2285970>,\n",
       " 'quit': <IPython.core.autocall.ZMQExitAutocall at 0x24fc2285970>,\n",
       " '_': 50,\n",
       " '__': 25,\n",
       " '___': '',\n",
       " '_i': \"#Global\\nx = 50\\n\\ndef func():\\n    global x\\n    print('This function is now using the global x!')\\n    print('Because of global x is: ', x)\\n    x = 2\\n    print('Ran func(), changed global x to', x)\\n\\nprint('Before calling func(), x is: ', x)\\nfunc()\\nprint('Value of x (outside of func()) is: ', x)\",\n",
       " '_ii': \"x = 50\\n\\ndef func(x):\\n    print('x is', x)\\n    x = 2\\n    print('Changed local x to', x)\\n\\nfunc(x)\\nprint('x is still', x)\",\n",
       " '_iii': '#Quick examples of LEGB\\nF=lambda x:x**2\\n#x is local here',\n",
       " '_i1': 'x=25\\n\\ndef printer():\\n    x=50\\n    return x\\n#print x\\n#print(printer(0))',\n",
       " 'x': 2,\n",
       " 'printer': <function __main__.printer()>,\n",
       " '_i2': 'x=25\\n\\ndef printer():\\n    x=50\\n    return x\\n#print x\\n#print(printer())',\n",
       " '_i3': 'x',\n",
       " '_3': 25,\n",
       " '_i4': 'printer()',\n",
       " '_4': 50,\n",
       " '_i5': '#Quick examples of LEGB',\n",
       " '_i6': '#Quick examples of LEGB\\nF=lambda x:x**2',\n",
       " 'F': <function __main__.<lambda>(x)>,\n",
       " '_i7': '#Quick examples of LEGB\\nF=lambda x:x**2\\n#x is local here',\n",
       " '_i8': \"x = 50\\n\\ndef func(x):\\n    print('x is', x)\\n    x = 2\\n    print('Changed local x to', x)\\n\\nfunc(x)\\nprint('x is still', x)\",\n",
       " 'func': <function __main__.func()>,\n",
       " '_i9': \"#Global\\nx = 50\\n\\ndef func():\\n    global x\\n    print('This function is now using the global x!')\\n    print('Because of global x is: ', x)\\n    x = 2\\n    print('Ran func(), changed global x to', x)\\n\\nprint('Before calling func(), x is: ', x)\\nfunc()\\nprint('Value of x (outside of func()) is: ', x)\",\n",
       " '_i10': '#to check for globals an locals use this function\\nglobals() and locals()'}"
      ]
     },
     "execution_count": 10,
     "metadata": {},
     "output_type": "execute_result"
    }
   ],
   "source": [
    "#to check for globals an locals use this function\n",
    "globals() and locals()"
   ]
  }
 ],
 "metadata": {
  "kernelspec": {
   "display_name": "Python 3 (ipykernel)",
   "language": "python",
   "name": "python3"
  },
  "language_info": {
   "codemirror_mode": {
    "name": "ipython",
    "version": 3
   },
   "file_extension": ".py",
   "mimetype": "text/x-python",
   "name": "python",
   "nbconvert_exporter": "python",
   "pygments_lexer": "ipython3",
   "version": "3.9.12"
  }
 },
 "nbformat": 4,
 "nbformat_minor": 5
}
