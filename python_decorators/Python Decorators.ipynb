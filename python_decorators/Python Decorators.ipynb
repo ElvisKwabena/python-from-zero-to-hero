{
 "cells": [
  {
   "cell_type": "code",
   "execution_count": 1,
   "id": "4a82dd5f",
   "metadata": {},
   "outputs": [],
   "source": [
    "#Let's look at decorators in python\n",
    "def func():\n",
    "    return 1"
   ]
  },
  {
   "cell_type": "code",
   "execution_count": 2,
   "id": "33a5af28",
   "metadata": {},
   "outputs": [
    {
     "data": {
      "text/plain": [
       "1"
      ]
     },
     "execution_count": 2,
     "metadata": {},
     "output_type": "execute_result"
    }
   ],
   "source": [
    "func()"
   ]
  },
  {
   "cell_type": "code",
   "execution_count": 3,
   "id": "3f042854",
   "metadata": {},
   "outputs": [
    {
     "data": {
      "text/plain": [
       "<function __main__.func()>"
      ]
     },
     "execution_count": 3,
     "metadata": {},
     "output_type": "execute_result"
    }
   ],
   "source": [
    "func"
   ]
  },
  {
   "cell_type": "code",
   "execution_count": 4,
   "id": "2a3cf8d3",
   "metadata": {},
   "outputs": [],
   "source": [
    "myfunc=func\n"
   ]
  },
  {
   "cell_type": "code",
   "execution_count": 5,
   "id": "aed14ee7",
   "metadata": {},
   "outputs": [
    {
     "data": {
      "text/plain": [
       "1"
      ]
     },
     "execution_count": 5,
     "metadata": {},
     "output_type": "execute_result"
    }
   ],
   "source": [
    "myfunc()"
   ]
  },
  {
   "cell_type": "code",
   "execution_count": 12,
   "id": "0d620966",
   "metadata": {},
   "outputs": [],
   "source": [
    "def hello(name='Jose'):\n",
    "    print('The hello() function has been executed!')\n",
    "    \n",
    "    def greet():\n",
    "        return '\\t This is the greet() func inside hello!'\n",
    " \n",
    "    def welcome():\n",
    "        return '\\t This welcome inside hello'\n",
    "    \n",
    "    print(welcome())\n",
    "    print(greet())\n",
    "    print('This is the end of the hello function!')"
   ]
  },
  {
   "cell_type": "code",
   "execution_count": 13,
   "id": "77b4b32b",
   "metadata": {},
   "outputs": [
    {
     "name": "stdout",
     "output_type": "stream",
     "text": [
      "The hello() function has been executed!\n",
      "\t This welcome inside hello\n",
      "\t This is the greet() func inside hello!\n",
      "This is the end of the hello function!\n"
     ]
    }
   ],
   "source": [
    "hello()"
   ]
  },
  {
   "cell_type": "code",
   "execution_count": 14,
   "id": "5966d7ae",
   "metadata": {},
   "outputs": [],
   "source": [
    "def hello(name='Jose'):\n",
    "    print('The hello() function has been executed!')\n",
    "    \n",
    "    def greet():\n",
    "        return '\\t This is the greet() func inside hello!'\n",
    " \n",
    "    def welcome():\n",
    "        return '\\t This welcome inside hello'\n",
    "    \n",
    "    print(\"I am going to return a function!\")\n",
    "    \n",
    "    if name=='Jose':\n",
    "        return greet \n",
    "    else:\n",
    "        return welcome"
   ]
  },
  {
   "cell_type": "code",
   "execution_count": 15,
   "id": "b91abaf1",
   "metadata": {},
   "outputs": [
    {
     "name": "stdout",
     "output_type": "stream",
     "text": [
      "The hello() function has been executed!\n",
      "I am going to return a function!\n"
     ]
    }
   ],
   "source": [
    "nfunc=hello('Jose')"
   ]
  },
  {
   "cell_type": "code",
   "execution_count": 17,
   "id": "246e9e66",
   "metadata": {},
   "outputs": [
    {
     "name": "stdout",
     "output_type": "stream",
     "text": [
      "\t This is the greet() func inside hello!\n"
     ]
    }
   ],
   "source": [
    "print(nfunc())"
   ]
  },
  {
   "cell_type": "code",
   "execution_count": 19,
   "id": "334234f0",
   "metadata": {},
   "outputs": [],
   "source": [
    "def cool():\n",
    "    \n",
    "    def super_cool():\n",
    "        return \"I am very cool\"\n",
    "    \n",
    "    return super_cool"
   ]
  },
  {
   "cell_type": "code",
   "execution_count": 20,
   "id": "d5dc2687",
   "metadata": {},
   "outputs": [],
   "source": [
    "sfunc=cool()"
   ]
  },
  {
   "cell_type": "code",
   "execution_count": 21,
   "id": "266749f4",
   "metadata": {},
   "outputs": [
    {
     "data": {
      "text/plain": [
       "'I am very cool'"
      ]
     },
     "execution_count": 21,
     "metadata": {},
     "output_type": "execute_result"
    }
   ],
   "source": [
    "sfunc()"
   ]
  },
  {
   "cell_type": "code",
   "execution_count": 22,
   "id": "a9e72855",
   "metadata": {},
   "outputs": [],
   "source": [
    "def hello():\n",
    "    return 'Hi Jose'"
   ]
  },
  {
   "cell_type": "code",
   "execution_count": 23,
   "id": "3ffeb6cb",
   "metadata": {},
   "outputs": [],
   "source": [
    "def other(some_def):\n",
    "    print('Other code runs here!')\n",
    "    print(some_def())\n",
    "    "
   ]
  },
  {
   "cell_type": "code",
   "execution_count": 24,
   "id": "1b315b6f",
   "metadata": {},
   "outputs": [
    {
     "name": "stdout",
     "output_type": "stream",
     "text": [
      "Other code runs here!\n",
      "Hi Jose\n"
     ]
    }
   ],
   "source": [
    "other(hello)"
   ]
  },
  {
   "cell_type": "code",
   "execution_count": 25,
   "id": "f16c96e7",
   "metadata": {},
   "outputs": [],
   "source": [
    "#Decorators\n",
    "def new_decorator(original_func):\n",
    "    def wrap_func():\n",
    "        print('Some extra code')\n",
    "        original_func()\n",
    "        print('Some extra code,after the original function!')\n",
    "    return wrap_func"
   ]
  },
  {
   "cell_type": "code",
   "execution_count": 26,
   "id": "493315b5",
   "metadata": {},
   "outputs": [],
   "source": [
    "def func_deficient():\n",
    "    print(\"I want to be decorated\")"
   ]
  },
  {
   "cell_type": "code",
   "execution_count": 27,
   "id": "cb7a5d32",
   "metadata": {},
   "outputs": [],
   "source": [
    "decoratedfunc=new_decorator(func_deficient)"
   ]
  },
  {
   "cell_type": "code",
   "execution_count": 28,
   "id": "8c16df7f",
   "metadata": {},
   "outputs": [
    {
     "name": "stdout",
     "output_type": "stream",
     "text": [
      "Some extra code\n",
      "I want to be decorated\n",
      "Some extra code,after the original function!\n"
     ]
    }
   ],
   "source": [
    "decoratedfunc()"
   ]
  },
  {
   "cell_type": "code",
   "execution_count": 30,
   "id": "41e9e14c",
   "metadata": {},
   "outputs": [],
   "source": [
    "#Special Sythnax with @ decorator\n",
    "@new_decorator\n",
    "def func_deficient():\n",
    "    print(\"I want to be decorated\")"
   ]
  },
  {
   "cell_type": "code",
   "execution_count": 32,
   "id": "62dace5c",
   "metadata": {},
   "outputs": [
    {
     "name": "stdout",
     "output_type": "stream",
     "text": [
      "Some extra code\n",
      "I want to be decorated\n",
      "Some extra code,after the original function!\n"
     ]
    }
   ],
   "source": [
    "func_deficient()"
   ]
  },
  {
   "cell_type": "code",
   "execution_count": null,
   "id": "4faeec80",
   "metadata": {},
   "outputs": [],
   "source": []
  }
 ],
 "metadata": {
  "kernelspec": {
   "display_name": "Python 3 (ipykernel)",
   "language": "python",
   "name": "python3"
  },
  "language_info": {
   "codemirror_mode": {
    "name": "ipython",
    "version": 3
   },
   "file_extension": ".py",
   "mimetype": "text/x-python",
   "name": "python",
   "nbconvert_exporter": "python",
   "pygments_lexer": "ipython3",
   "version": "3.9.12"
  }
 },
 "nbformat": 4,
 "nbformat_minor": 5
}
