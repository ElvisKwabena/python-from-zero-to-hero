{
 "cells": [
  {
   "cell_type": "code",
   "execution_count": null,
   "id": "f4e764e6",
   "metadata": {},
   "outputs": [],
   "source": [
    "#Let's look at decorators in python"
   ]
  }
 ],
 "metadata": {
  "kernelspec": {
   "display_name": "Python 3 (ipykernel)",
   "language": "python",
   "name": "python3"
  }
 },
 "nbformat": 4,
 "nbformat_minor": 5
}
