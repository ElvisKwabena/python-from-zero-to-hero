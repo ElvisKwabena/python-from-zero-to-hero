{
 "cells": [
  {
   "cell_type": "code",
   "execution_count": 1,
   "id": "7714474d",
   "metadata": {},
   "outputs": [],
   "source": [
    "my_list=[1,2,3,5,9]"
   ]
  },
  {
   "cell_type": "code",
   "execution_count": 2,
   "id": "98acd716",
   "metadata": {},
   "outputs": [],
   "source": [
    "my_list=['string',100,202.4]"
   ]
  },
  {
   "cell_type": "code",
   "execution_count": 3,
   "id": "3c79aa44",
   "metadata": {},
   "outputs": [
    {
     "data": {
      "text/plain": [
       "[100, 202.4]"
      ]
     },
     "execution_count": 3,
     "metadata": {},
     "output_type": "execute_result"
    }
   ],
   "source": [
    "#list indexing\n",
    "my_list[1:]\n"
   ]
  },
  {
   "cell_type": "code",
   "execution_count": 4,
   "id": "f8747c8c",
   "metadata": {},
   "outputs": [],
   "source": [
    "new_list=['three',True,34.5]"
   ]
  },
  {
   "cell_type": "code",
   "execution_count": 5,
   "id": "47e1cf73",
   "metadata": {
    "scrolled": true
   },
   "outputs": [
    {
     "data": {
      "text/plain": [
       "['string', 100, 202.4, 'three', True, 34.5]"
      ]
     },
     "execution_count": 5,
     "metadata": {},
     "output_type": "execute_result"
    }
   ],
   "source": [
    "#concatenation\n",
    "my_list+new_list"
   ]
  },
  {
   "cell_type": "code",
   "execution_count": 6,
   "id": "86058267",
   "metadata": {},
   "outputs": [],
   "source": [
    "#lists are mutable\n",
    "new_list[1]='Nkrumah'"
   ]
  },
  {
   "cell_type": "code",
   "execution_count": 7,
   "id": "d71eda4b",
   "metadata": {},
   "outputs": [
    {
     "data": {
      "text/plain": [
       "['three', 'Nkrumah', 34.5]"
      ]
     },
     "execution_count": 7,
     "metadata": {},
     "output_type": "execute_result"
    }
   ],
   "source": [
    "new_list"
   ]
  },
  {
   "cell_type": "code",
   "execution_count": 8,
   "id": "16d7837e",
   "metadata": {},
   "outputs": [],
   "source": [
    "#adding new items to a list\n",
    "new_list.append('DeGreat')"
   ]
  },
  {
   "cell_type": "code",
   "execution_count": 9,
   "id": "6cf0716a",
   "metadata": {},
   "outputs": [
    {
     "data": {
      "text/plain": [
       "['three', 'Nkrumah', 34.5, 'DeGreat']"
      ]
     },
     "execution_count": 9,
     "metadata": {},
     "output_type": "execute_result"
    }
   ],
   "source": [
    "new_list"
   ]
  },
  {
   "cell_type": "code",
   "execution_count": 10,
   "id": "5e61c71e",
   "metadata": {},
   "outputs": [
    {
     "data": {
      "text/plain": [
       "'DeGreat'"
      ]
     },
     "execution_count": 10,
     "metadata": {},
     "output_type": "execute_result"
    }
   ],
   "source": [
    "#removing items from a list\n",
    "new_list.pop()"
   ]
  },
  {
   "cell_type": "code",
   "execution_count": 11,
   "id": "5193408e",
   "metadata": {},
   "outputs": [
    {
     "data": {
      "text/plain": [
       "['three', 'Nkrumah', 34.5]"
      ]
     },
     "execution_count": 11,
     "metadata": {},
     "output_type": "execute_result"
    }
   ],
   "source": [
    "new_list"
   ]
  },
  {
   "cell_type": "code",
   "execution_count": 12,
   "id": "0ade00c0",
   "metadata": {},
   "outputs": [],
   "source": [
    "popped_item=new_list.pop()"
   ]
  },
  {
   "cell_type": "code",
   "execution_count": 15,
   "id": "8a6fa193",
   "metadata": {},
   "outputs": [
    {
     "data": {
      "text/plain": [
       "'Nkrumah'"
      ]
     },
     "execution_count": 15,
     "metadata": {},
     "output_type": "execute_result"
    }
   ],
   "source": [
    "new_list.pop(1)"
   ]
  },
  {
   "cell_type": "code",
   "execution_count": 20,
   "id": "16bba1bb",
   "metadata": {},
   "outputs": [],
   "source": [
    "new_list.reverse()"
   ]
  },
  {
   "cell_type": "code",
   "execution_count": 21,
   "id": "1bc6aae4",
   "metadata": {},
   "outputs": [
    {
     "data": {
      "text/plain": [
       "['True', 'three']"
      ]
     },
     "execution_count": 21,
     "metadata": {},
     "output_type": "execute_result"
    }
   ],
   "source": [
    "new_list"
   ]
  },
  {
   "cell_type": "code",
   "execution_count": 19,
   "id": "d6c9f414",
   "metadata": {},
   "outputs": [],
   "source": [
    "new_list.append('True')"
   ]
  },
  {
   "cell_type": "code",
   "execution_count": null,
   "id": "19aff6e2",
   "metadata": {},
   "outputs": [],
   "source": []
  }
 ],
 "metadata": {
  "kernelspec": {
   "display_name": "Python 3 (ipykernel)",
   "language": "python",
   "name": "python3"
  },
  "language_info": {
   "codemirror_mode": {
    "name": "ipython",
    "version": 3
   },
   "file_extension": ".py",
   "mimetype": "text/x-python",
   "name": "python",
   "nbconvert_exporter": "python",
   "pygments_lexer": "ipython3",
   "version": "3.9.12"
  }
 },
 "nbformat": 4,
 "nbformat_minor": 5
}
