{
 "cells": [
  {
   "cell_type": "markdown",
   "id": "7c847647",
   "metadata": {},
   "source": [
    "# Strings"
   ]
  },
  {
   "cell_type": "code",
   "execution_count": 1,
   "id": "3d78c85f",
   "metadata": {},
   "outputs": [
    {
     "data": {
      "text/plain": [
       "'hello'"
      ]
     },
     "execution_count": 1,
     "metadata": {},
     "output_type": "execute_result"
    }
   ],
   "source": [
    "'hello'"
   ]
  },
  {
   "cell_type": "code",
   "execution_count": 2,
   "id": "d883ab6a",
   "metadata": {},
   "outputs": [
    {
     "data": {
      "text/plain": [
       "'world'"
      ]
     },
     "execution_count": 2,
     "metadata": {},
     "output_type": "execute_result"
    }
   ],
   "source": [
    "\"world\""
   ]
  },
  {
   "cell_type": "code",
   "execution_count": 3,
   "id": "f9f463b1",
   "metadata": {},
   "outputs": [
    {
     "data": {
      "text/plain": [
       "'this is also a string'"
      ]
     },
     "execution_count": 3,
     "metadata": {},
     "output_type": "execute_result"
    }
   ],
   "source": [
    "'this is also a string'"
   ]
  },
  {
   "cell_type": "code",
   "execution_count": 4,
   "id": "0628f5e4",
   "metadata": {},
   "outputs": [
    {
     "data": {
      "text/plain": [
       "\"I'm going on a run\""
      ]
     },
     "execution_count": 4,
     "metadata": {},
     "output_type": "execute_result"
    }
   ],
   "source": [
    "\"I'm going on a run\""
   ]
  },
  {
   "cell_type": "code",
   "execution_count": 5,
   "id": "3f10efc1",
   "metadata": {},
   "outputs": [
    {
     "name": "stdout",
     "output_type": "stream",
     "text": [
      "hello\n"
     ]
    }
   ],
   "source": [
    "print(\"hello\")"
   ]
  },
  {
   "cell_type": "code",
   "execution_count": 7,
   "id": "26f168c0",
   "metadata": {},
   "outputs": [
    {
     "name": "stdout",
     "output_type": "stream",
     "text": [
      "hello world 1\n",
      "hello world 2\n"
     ]
    }
   ],
   "source": [
    "print(\"hello world 1\")\n",
    "print(\"hello world 2\")"
   ]
  },
  {
   "cell_type": "code",
   "execution_count": 8,
   "id": "b1962953",
   "metadata": {},
   "outputs": [
    {
     "name": "stdout",
     "output_type": "stream",
     "text": [
      "hello \n",
      " world\n"
     ]
    }
   ],
   "source": [
    "print('hello \\n world')"
   ]
  },
  {
   "cell_type": "code",
   "execution_count": 9,
   "id": "e7829fd4",
   "metadata": {},
   "outputs": [
    {
     "data": {
      "text/plain": [
       "5"
      ]
     },
     "execution_count": 9,
     "metadata": {},
     "output_type": "execute_result"
    }
   ],
   "source": [
    "len('hello')"
   ]
  },
  {
   "cell_type": "markdown",
   "id": "69cb1c9f",
   "metadata": {},
   "source": [
    "INDEXING AND SLICING"
   ]
  },
  {
   "cell_type": "code",
   "execution_count": 18,
   "id": "76800bf3",
   "metadata": {},
   "outputs": [],
   "source": [
    "s = 'Good God'"
   ]
  },
  {
   "cell_type": "code",
   "execution_count": 19,
   "id": "e84773ca",
   "metadata": {},
   "outputs": [
    {
     "data": {
      "text/plain": [
       "'Good God'"
      ]
     },
     "execution_count": 19,
     "metadata": {},
     "output_type": "execute_result"
    }
   ],
   "source": [
    "s"
   ]
  },
  {
   "cell_type": "code",
   "execution_count": 20,
   "id": "0a3bbe0b",
   "metadata": {},
   "outputs": [
    {
     "data": {
      "text/plain": [
       "'G'"
      ]
     },
     "execution_count": 20,
     "metadata": {},
     "output_type": "execute_result"
    }
   ],
   "source": [
    "s[0]"
   ]
  },
  {
   "cell_type": "code",
   "execution_count": 21,
   "id": "970e8b56",
   "metadata": {},
   "outputs": [
    {
     "data": {
      "text/plain": [
       "' '"
      ]
     },
     "execution_count": 21,
     "metadata": {},
     "output_type": "execute_result"
    }
   ],
   "source": [
    "s[4]"
   ]
  },
  {
   "cell_type": "code",
   "execution_count": 22,
   "id": "585c1172",
   "metadata": {},
   "outputs": [
    {
     "data": {
      "text/plain": [
       "'ood God'"
      ]
     },
     "execution_count": 22,
     "metadata": {},
     "output_type": "execute_result"
    }
   ],
   "source": [
    "s[1:]\n"
   ]
  },
  {
   "cell_type": "code",
   "execution_count": 23,
   "id": "c5ed7259",
   "metadata": {},
   "outputs": [
    {
     "data": {
      "text/plain": [
       "'Goo'"
      ]
     },
     "execution_count": 23,
     "metadata": {},
     "output_type": "execute_result"
    }
   ],
   "source": [
    "s[:3]"
   ]
  },
  {
   "cell_type": "code",
   "execution_count": 24,
   "id": "cb630098",
   "metadata": {},
   "outputs": [
    {
     "data": {
      "text/plain": [
       "'d'"
      ]
     },
     "execution_count": 24,
     "metadata": {},
     "output_type": "execute_result"
    }
   ],
   "source": [
    "s[-1]\n"
   ]
  },
  {
   "cell_type": "code",
   "execution_count": 25,
   "id": "b583c79c",
   "metadata": {},
   "outputs": [
    {
     "data": {
      "text/plain": [
       "'Go o'"
      ]
     },
     "execution_count": 25,
     "metadata": {},
     "output_type": "execute_result"
    }
   ],
   "source": [
    "s[::2]"
   ]
  },
  {
   "cell_type": "code",
   "execution_count": 26,
   "id": "7de5c8b3",
   "metadata": {},
   "outputs": [
    {
     "data": {
      "text/plain": [
       "'doG dooG'"
      ]
     },
     "execution_count": 26,
     "metadata": {},
     "output_type": "execute_result"
    }
   ],
   "source": [
    "s[::-1]"
   ]
  },
  {
   "cell_type": "markdown",
   "id": "aeb7fe11",
   "metadata": {},
   "source": [
    "# String Properties"
   ]
  },
  {
   "cell_type": "code",
   "execution_count": 30,
   "id": "8fdab8f5",
   "metadata": {},
   "outputs": [
    {
     "data": {
      "text/plain": [
       "'Good God! You are wonderful '"
      ]
     },
     "execution_count": 30,
     "metadata": {},
     "output_type": "execute_result"
    }
   ],
   "source": [
    "#Concatenate strings\n",
    "s + '! You are wonderful'"
   ]
  },
  {
   "cell_type": "code",
   "execution_count": 31,
   "id": "9aa27b66",
   "metadata": {},
   "outputs": [],
   "source": [
    "letter = 'a'"
   ]
  },
  {
   "cell_type": "code",
   "execution_count": 33,
   "id": "d7f05702",
   "metadata": {},
   "outputs": [
    {
     "data": {
      "text/plain": [
       "'aaaaaa'"
      ]
     },
     "execution_count": 33,
     "metadata": {},
     "output_type": "execute_result"
    }
   ],
   "source": [
    "letter*6"
   ]
  },
  {
   "cell_type": "markdown",
   "id": "e3fda21d",
   "metadata": {},
   "source": [
    "# Built-In String Methods"
   ]
  },
  {
   "cell_type": "code",
   "execution_count": 34,
   "id": "eab20b24",
   "metadata": {},
   "outputs": [
    {
     "data": {
      "text/plain": [
       "'GOOD GOD'"
      ]
     },
     "execution_count": 34,
     "metadata": {},
     "output_type": "execute_result"
    }
   ],
   "source": [
    "#Upper Case a String\n",
    "s.upper()"
   ]
  },
  {
   "cell_type": "code",
   "execution_count": 35,
   "id": "ae9b1e1c",
   "metadata": {},
   "outputs": [
    {
     "data": {
      "text/plain": [
       "'good god'"
      ]
     },
     "execution_count": 35,
     "metadata": {},
     "output_type": "execute_result"
    }
   ],
   "source": [
    "#Lower case a string \n",
    "s.lower()"
   ]
  },
  {
   "cell_type": "code",
   "execution_count": 36,
   "id": "a3861ef3",
   "metadata": {},
   "outputs": [
    {
     "data": {
      "text/plain": [
       "['Good', 'God']"
      ]
     },
     "execution_count": 36,
     "metadata": {},
     "output_type": "execute_result"
    }
   ],
   "source": [
    "#Split a string by blank space\n",
    "s.split()\n"
   ]
  },
  {
   "cell_type": "code",
   "execution_count": 39,
   "id": "61ce86a1",
   "metadata": {},
   "outputs": [
    {
     "data": {
      "text/plain": [
       "['G', '', 'd G', 'd']"
      ]
     },
     "execution_count": 39,
     "metadata": {},
     "output_type": "execute_result"
    }
   ],
   "source": [
    "#Split by a specific element(doesn't include the element that was splited)\n",
    "s.split('o')"
   ]
  },
  {
   "cell_type": "markdown",
   "id": "ff05323a",
   "metadata": {},
   "source": [
    "# Print Formatting Using Strings"
   ]
  },
  {
   "cell_type": "markdown",
   "id": "f06afc45",
   "metadata": {},
   "source": [
    "The types of print formatting uses in python include:\n",
    "1.format() method\n",
    "2.f-strings(formated string literals)\n",
    "\n",
    "Below is the synthax for 1.\n",
    "'String here {} other strings {}'.format('smth1',smth2')\n"
   ]
  },
  {
   "cell_type": "code",
   "execution_count": 41,
   "id": "836974ed",
   "metadata": {},
   "outputs": [
    {
     "name": "stdout",
     "output_type": "stream",
     "text": [
      "This is a string added\n"
     ]
    }
   ],
   "source": [
    "print('This is a string{}'.format(' added'))"
   ]
  },
  {
   "cell_type": "code",
   "execution_count": 42,
   "id": "0ad47ee4",
   "metadata": {},
   "outputs": [
    {
     "name": "stdout",
     "output_type": "stream",
     "text": [
      "The quick brown fox\n"
     ]
    }
   ],
   "source": [
    "print('The {2} {1} {0}'.format('fox','brown','quick'))"
   ]
  },
  {
   "cell_type": "code",
   "execution_count": 45,
   "id": "813a3467",
   "metadata": {},
   "outputs": [
    {
     "name": "stdout",
     "output_type": "stream",
     "text": [
      "The fox brown quick\n"
     ]
    }
   ],
   "source": [
    "print('The {a} {b} {c}'.format(a='fox',b='brown',c='quick'))"
   ]
  },
  {
   "cell_type": "code",
   "execution_count": 47,
   "id": "0eaaa409",
   "metadata": {},
   "outputs": [],
   "source": [
    "#f string method\n",
    "name = \"Jose\""
   ]
  },
  {
   "cell_type": "code",
   "execution_count": 48,
   "id": "c94baf22",
   "metadata": {},
   "outputs": [
    {
     "name": "stdout",
     "output_type": "stream",
     "text": [
      "Hello, his name is Jose\n"
     ]
    }
   ],
   "source": [
    "print(f'Hello, his name is {name}')"
   ]
  },
  {
   "cell_type": "code",
   "execution_count": null,
   "id": "8c6f3f4f",
   "metadata": {},
   "outputs": [],
   "source": []
  }
 ],
 "metadata": {
  "kernelspec": {
   "display_name": "Python 3 (ipykernel)",
   "language": "python",
   "name": "python3"
  },
  "language_info": {
   "codemirror_mode": {
    "name": "ipython",
    "version": 3
   },
   "file_extension": ".py",
   "mimetype": "text/x-python",
   "name": "python",
   "nbconvert_exporter": "python",
   "pygments_lexer": "ipython3",
   "version": "3.9.12"
  }
 },
 "nbformat": 4,
 "nbformat_minor": 5
}
