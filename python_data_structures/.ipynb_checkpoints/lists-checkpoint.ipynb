{
 "cells": [
  {
   "cell_type": "code",
   "execution_count": 1,
   "id": "80499211",
   "metadata": {},
   "outputs": [],
   "source": [
    "my_list=[1,2,3,5,9]"
   ]
  },
  {
   "cell_type": "code",
   "execution_count": 2,
   "id": "5817de82",
   "metadata": {},
   "outputs": [],
   "source": [
    "my_list=['string',100,202.4]"
   ]
  },
  {
   "cell_type": "code",
   "execution_count": 3,
   "id": "aad75f84",
   "metadata": {},
   "outputs": [
    {
     "data": {
      "text/plain": [
       "[100, 202.4]"
      ]
     },
     "execution_count": 3,
     "metadata": {},
     "output_type": "execute_result"
    }
   ],
   "source": [
    "#list indexing\n",
    "my_list[1:]\n"
   ]
  },
  {
   "cell_type": "code",
   "execution_count": 4,
   "id": "7a3edfdd",
   "metadata": {},
   "outputs": [],
   "source": [
    "new_list=['three',True,34.5]"
   ]
  },
  {
   "cell_type": "code",
   "execution_count": 5,
   "id": "cd49cd82",
   "metadata": {
    "scrolled": true
   },
   "outputs": [
    {
     "data": {
      "text/plain": [
       "['string', 100, 202.4, 'three', True, 34.5]"
      ]
     },
     "execution_count": 5,
     "metadata": {},
     "output_type": "execute_result"
    }
   ],
   "source": [
    "#concatenation\n",
    "my_list+new_list"
   ]
  },
  {
   "cell_type": "code",
   "execution_count": 6,
   "id": "402f3c2d",
   "metadata": {},
   "outputs": [],
   "source": [
    "#lists are mutable\n",
    "new_list[1]='Nkrumah'"
   ]
  },
  {
   "cell_type": "code",
   "execution_count": 7,
   "id": "233ce63a",
   "metadata": {},
   "outputs": [
    {
     "data": {
      "text/plain": [
       "['three', 'Nkrumah', 34.5]"
      ]
     },
     "execution_count": 7,
     "metadata": {},
     "output_type": "execute_result"
    }
   ],
   "source": [
    "new_list"
   ]
  },
  {
   "cell_type": "code",
   "execution_count": 8,
   "id": "2a59ed6f",
   "metadata": {},
   "outputs": [],
   "source": [
    "#adding new items to a list\n",
    "new_list.append('DeGreat')"
   ]
  },
  {
   "cell_type": "code",
   "execution_count": 9,
   "id": "8c626a98",
   "metadata": {},
   "outputs": [
    {
     "data": {
      "text/plain": [
       "['three', 'Nkrumah', 34.5, 'DeGreat']"
      ]
     },
     "execution_count": 9,
     "metadata": {},
     "output_type": "execute_result"
    }
   ],
   "source": [
    "new_list"
   ]
  },
  {
   "cell_type": "code",
   "execution_count": 10,
   "id": "75e3f2a4",
   "metadata": {},
   "outputs": [
    {
     "data": {
      "text/plain": [
       "'DeGreat'"
      ]
     },
     "execution_count": 10,
     "metadata": {},
     "output_type": "execute_result"
    }
   ],
   "source": [
    "#removing items from a list\n",
    "new_list.pop()"
   ]
  },
  {
   "cell_type": "code",
   "execution_count": 11,
   "id": "6bfebe2f",
   "metadata": {},
   "outputs": [
    {
     "data": {
      "text/plain": [
       "['three', 'Nkrumah', 34.5]"
      ]
     },
     "execution_count": 11,
     "metadata": {},
     "output_type": "execute_result"
    }
   ],
   "source": [
    "new_list"
   ]
  },
  {
   "cell_type": "code",
   "execution_count": 12,
   "id": "2e82c9cc",
   "metadata": {},
   "outputs": [],
   "source": [
    "popped_item=new_list.pop()"
   ]
  },
  {
   "cell_type": "code",
   "execution_count": 15,
   "id": "d59929b2",
   "metadata": {},
   "outputs": [
    {
     "data": {
      "text/plain": [
       "'Nkrumah'"
      ]
     },
     "execution_count": 15,
     "metadata": {},
     "output_type": "execute_result"
    }
   ],
   "source": [
    "new_list.pop(1)"
   ]
  },
  {
   "cell_type": "code",
   "execution_count": 20,
   "id": "0072b64a",
   "metadata": {},
   "outputs": [],
   "source": [
    "new_list.reverse()"
   ]
  },
  {
   "cell_type": "code",
   "execution_count": 21,
   "id": "3ee4ce03",
   "metadata": {},
   "outputs": [
    {
     "data": {
      "text/plain": [
       "['True', 'three']"
      ]
     },
     "execution_count": 21,
     "metadata": {},
     "output_type": "execute_result"
    }
   ],
   "source": [
    "new_list"
   ]
  },
  {
   "cell_type": "code",
   "execution_count": 19,
   "id": "9dc38373",
   "metadata": {},
   "outputs": [],
   "source": [
    "new_list.append('True')"
   ]
  },
  {
   "cell_type": "code",
   "execution_count": null,
   "id": "0a44ab43",
   "metadata": {},
   "outputs": [],
   "source": []
  }
 ],
 "metadata": {
  "kernelspec": {
   "display_name": "Python 3 (ipykernel)",
   "language": "python",
   "name": "python3"
  },
  "language_info": {
   "codemirror_mode": {
    "name": "ipython",
    "version": 3
   },
   "file_extension": ".py",
   "mimetype": "text/x-python",
   "name": "python",
   "nbconvert_exporter": "python",
   "pygments_lexer": "ipython3",
   "version": "3.9.12"
  }
 },
 "nbformat": 4,
 "nbformat_minor": 5
}
