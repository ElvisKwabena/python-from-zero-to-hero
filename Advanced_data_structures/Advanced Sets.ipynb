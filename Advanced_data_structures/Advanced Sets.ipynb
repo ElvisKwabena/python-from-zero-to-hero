{
 "cells": [
  {
   "cell_type": "code",
   "execution_count": 2,
   "id": "8b7f3e1d",
   "metadata": {},
   "outputs": [],
   "source": [
    "s=set()"
   ]
  },
  {
   "cell_type": "code",
   "execution_count": 3,
   "id": "06cf78c9",
   "metadata": {},
   "outputs": [],
   "source": [
    "s.add(3)"
   ]
  },
  {
   "cell_type": "code",
   "execution_count": 4,
   "id": "62199a5c",
   "metadata": {},
   "outputs": [],
   "source": [
    "s.add(23)"
   ]
  },
  {
   "cell_type": "code",
   "execution_count": 5,
   "id": "93756e64",
   "metadata": {},
   "outputs": [
    {
     "data": {
      "text/plain": [
       "{3, 23}"
      ]
     },
     "execution_count": 5,
     "metadata": {},
     "output_type": "execute_result"
    }
   ],
   "source": [
    "s"
   ]
  },
  {
   "cell_type": "code",
   "execution_count": 6,
   "id": "31c7f45d",
   "metadata": {},
   "outputs": [],
   "source": [
    "s.clear()"
   ]
  },
  {
   "cell_type": "code",
   "execution_count": 7,
   "id": "21f114ed",
   "metadata": {},
   "outputs": [
    {
     "data": {
      "text/plain": [
       "set()"
      ]
     },
     "execution_count": 7,
     "metadata": {},
     "output_type": "execute_result"
    }
   ],
   "source": [
    "s"
   ]
  },
  {
   "cell_type": "code",
   "execution_count": 8,
   "id": "3f1f774a",
   "metadata": {},
   "outputs": [],
   "source": [
    "sc=s.copy()"
   ]
  },
  {
   "cell_type": "code",
   "execution_count": 9,
   "id": "55d5233d",
   "metadata": {},
   "outputs": [
    {
     "data": {
      "text/plain": [
       "set()"
      ]
     },
     "execution_count": 9,
     "metadata": {},
     "output_type": "execute_result"
    }
   ],
   "source": [
    "sc"
   ]
  },
  {
   "cell_type": "code",
   "execution_count": 10,
   "id": "171a8c81",
   "metadata": {},
   "outputs": [],
   "source": [
    "sc.add(34)"
   ]
  },
  {
   "cell_type": "code",
   "execution_count": 11,
   "id": "633e0b72",
   "metadata": {},
   "outputs": [
    {
     "data": {
      "text/plain": [
       "set()"
      ]
     },
     "execution_count": 11,
     "metadata": {},
     "output_type": "execute_result"
    }
   ],
   "source": [
    "s"
   ]
  },
  {
   "cell_type": "code",
   "execution_count": 12,
   "id": "50f2547d",
   "metadata": {},
   "outputs": [
    {
     "data": {
      "text/plain": [
       "set()"
      ]
     },
     "execution_count": 12,
     "metadata": {},
     "output_type": "execute_result"
    }
   ],
   "source": [
    "s.difference(sc)"
   ]
  },
  {
   "cell_type": "code",
   "execution_count": 13,
   "id": "96e75297",
   "metadata": {},
   "outputs": [],
   "source": [
    "s.add(32)"
   ]
  },
  {
   "cell_type": "code",
   "execution_count": 14,
   "id": "46934777",
   "metadata": {},
   "outputs": [],
   "source": [
    "sc.add(122)"
   ]
  },
  {
   "cell_type": "code",
   "execution_count": 15,
   "id": "fe8078c6",
   "metadata": {},
   "outputs": [],
   "source": [
    "s.difference_update(sc)"
   ]
  },
  {
   "cell_type": "code",
   "execution_count": 16,
   "id": "e7d6660e",
   "metadata": {},
   "outputs": [
    {
     "data": {
      "text/plain": [
       "{34, 122}"
      ]
     },
     "execution_count": 16,
     "metadata": {},
     "output_type": "execute_result"
    }
   ],
   "source": [
    "sc"
   ]
  },
  {
   "cell_type": "code",
   "execution_count": 17,
   "id": "9bb225ee",
   "metadata": {},
   "outputs": [
    {
     "data": {
      "text/plain": [
       "{32}"
      ]
     },
     "execution_count": 17,
     "metadata": {},
     "output_type": "execute_result"
    }
   ],
   "source": [
    "s"
   ]
  },
  {
   "cell_type": "code",
   "execution_count": 18,
   "id": "d9ae422e",
   "metadata": {},
   "outputs": [
    {
     "data": {
      "text/plain": [
       "set()"
      ]
     },
     "execution_count": 18,
     "metadata": {},
     "output_type": "execute_result"
    }
   ],
   "source": [
    "s.intersection(sc)"
   ]
  },
  {
   "cell_type": "code",
   "execution_count": 19,
   "id": "b85585ee",
   "metadata": {},
   "outputs": [],
   "source": [
    "s.add(34)"
   ]
  },
  {
   "cell_type": "code",
   "execution_count": 25,
   "id": "8812006d",
   "metadata": {},
   "outputs": [],
   "source": [
    "s.intersection_update(sc)"
   ]
  },
  {
   "cell_type": "code",
   "execution_count": 23,
   "id": "f498ea48",
   "metadata": {},
   "outputs": [],
   "source": [
    "s.add(34)"
   ]
  },
  {
   "cell_type": "code",
   "execution_count": 26,
   "id": "203b0b72",
   "metadata": {},
   "outputs": [
    {
     "data": {
      "text/plain": [
       "False"
      ]
     },
     "execution_count": 26,
     "metadata": {},
     "output_type": "execute_result"
    }
   ],
   "source": [
    "s.isdisjoint(sc)"
   ]
  },
  {
   "cell_type": "code",
   "execution_count": 27,
   "id": "c5e85d82",
   "metadata": {},
   "outputs": [
    {
     "data": {
      "text/plain": [
       "{34, 122}"
      ]
     },
     "execution_count": 27,
     "metadata": {},
     "output_type": "execute_result"
    }
   ],
   "source": [
    "sc"
   ]
  },
  {
   "cell_type": "code",
   "execution_count": 28,
   "id": "f9260c45",
   "metadata": {},
   "outputs": [
    {
     "data": {
      "text/plain": [
       "{34}"
      ]
     },
     "execution_count": 28,
     "metadata": {},
     "output_type": "execute_result"
    }
   ],
   "source": [
    "s"
   ]
  },
  {
   "cell_type": "code",
   "execution_count": 29,
   "id": "fc5eab41",
   "metadata": {},
   "outputs": [],
   "source": [
    "s.add(123)"
   ]
  },
  {
   "cell_type": "code",
   "execution_count": 30,
   "id": "efe34ca9",
   "metadata": {},
   "outputs": [],
   "source": [
    "s.add(122)"
   ]
  },
  {
   "cell_type": "code",
   "execution_count": 31,
   "id": "997d7625",
   "metadata": {},
   "outputs": [
    {
     "data": {
      "text/plain": [
       "False"
      ]
     },
     "execution_count": 31,
     "metadata": {},
     "output_type": "execute_result"
    }
   ],
   "source": [
    "s.issubset(sc)"
   ]
  },
  {
   "cell_type": "code",
   "execution_count": 32,
   "id": "7dc06a3c",
   "metadata": {},
   "outputs": [
    {
     "data": {
      "text/plain": [
       "True"
      ]
     },
     "execution_count": 32,
     "metadata": {},
     "output_type": "execute_result"
    }
   ],
   "source": [
    "sc.issubset(sc)"
   ]
  },
  {
   "cell_type": "code",
   "execution_count": 35,
   "id": "32380379",
   "metadata": {},
   "outputs": [
    {
     "data": {
      "text/plain": [
       "{123}"
      ]
     },
     "execution_count": 35,
     "metadata": {},
     "output_type": "execute_result"
    }
   ],
   "source": [
    "s.symmetric_difference(sc)"
   ]
  },
  {
   "cell_type": "code",
   "execution_count": 36,
   "id": "3fc2a8c5",
   "metadata": {},
   "outputs": [
    {
     "data": {
      "text/plain": [
       "{34, 122, 123}"
      ]
     },
     "execution_count": 36,
     "metadata": {},
     "output_type": "execute_result"
    }
   ],
   "source": [
    "s.union(sc)"
   ]
  }
 ],
 "metadata": {
  "kernelspec": {
   "display_name": "Python 3 (ipykernel)",
   "language": "python",
   "name": "python3"
  },
  "language_info": {
   "codemirror_mode": {
    "name": "ipython",
    "version": 3
   },
   "file_extension": ".py",
   "mimetype": "text/x-python",
   "name": "python",
   "nbconvert_exporter": "python",
   "pygments_lexer": "ipython3",
   "version": "3.9.12"
  }
 },
 "nbformat": 4,
 "nbformat_minor": 5
}
